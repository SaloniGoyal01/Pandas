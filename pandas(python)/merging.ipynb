{
 "cells": [
  {
   "cell_type": "code",
   "execution_count": 2,
   "id": "8e446b56",
   "metadata": {},
   "outputs": [
    {
     "name": "stdout",
     "output_type": "stream",
     "text": [
      "inner join \n",
      "    CustomerID    Name  OrderAmount\n",
      "0           1  Ramesh          250\n",
      "1           2  Suresh          450\n"
     ]
    }
   ],
   "source": [
    "import pandas as pd\n",
    "\n",
    "df_customers = pd.DataFrame({\n",
    "    \"CustomerID\" : [1,2,3],\n",
    "    \"Name\" : [\"Ramesh\", \"Suresh\", \"Kalpesh\"]\n",
    "})\n",
    "\n",
    "# Order DataFrame\n",
    "df_orders = pd.DataFrame({\n",
    "    \"CustomerID\" : [1,2,4],\n",
    "    \"OrderAmount\" : [250, 450, 350]\n",
    "})\n",
    "\n",
    "# Merge\n",
    "df_merged = pd.merge(df_customers, df_orders, on = \"CustomerID\", how = \"inner\")\n",
    "print(\"inner join \\n\", df_merged)"
   ]
  },
  {
   "cell_type": "code",
   "execution_count": 6,
   "id": "dd990902",
   "metadata": {},
   "outputs": [
    {
     "name": "stdout",
     "output_type": "stream",
     "text": [
      "outer join \n",
      "    CustomerID     Name  OrderAmount\n",
      "0           1   Ramesh        250.0\n",
      "1           2   Suresh        450.0\n",
      "2           3  Kalpesh          NaN\n",
      "3           4      NaN        350.0\n"
     ]
    }
   ],
   "source": [
    "df_customers = pd.DataFrame({\n",
    "    \"CustomerID\" : [1,2,3],\n",
    "    \"Name\" : [\"Ramesh\", \"Suresh\", \"Kalpesh\"]\n",
    "})\n",
    "\n",
    "# Order DataFrame\n",
    "df_orders = pd.DataFrame({\n",
    "    \"CustomerID\" : [1,2,4],\n",
    "    \"OrderAmount\" : [250, 450, 350]\n",
    "})\n",
    "\n",
    "# Merge\n",
    "df_merged = pd.merge(df_customers, df_orders, on = \"CustomerID\", how = \"outer\")\n",
    "print(\"outer join \\n\", df_merged)"
   ]
  },
  {
   "cell_type": "code",
   "execution_count": 7,
   "id": "bcdcabe7",
   "metadata": {},
   "outputs": [
    {
     "name": "stdout",
     "output_type": "stream",
     "text": [
      "left join \n",
      "    CustomerID     Name  OrderAmount\n",
      "0           1   Ramesh        250.0\n",
      "1           2   Suresh        450.0\n",
      "2           3  Kalpesh          NaN\n"
     ]
    }
   ],
   "source": [
    "df_customers = pd.DataFrame({\n",
    "    \"CustomerID\" : [1,2,3],\n",
    "    \"Name\" : [\"Ramesh\", \"Suresh\", \"Kalpesh\"]\n",
    "})\n",
    "\n",
    "# Order DataFrame\n",
    "df_orders = pd.DataFrame({\n",
    "    \"CustomerID\" : [1,2,4],\n",
    "    \"OrderAmount\" : [250, 450, 350]\n",
    "})\n",
    "\n",
    "# Merge\n",
    "df_merged = pd.merge(df_customers, df_orders, on = \"CustomerID\", how = \"left\")\n",
    "print(\"left join \\n\", df_merged)"
   ]
  },
  {
   "cell_type": "code",
   "execution_count": 8,
   "id": "5a1a532a",
   "metadata": {},
   "outputs": [
    {
     "name": "stdout",
     "output_type": "stream",
     "text": [
      "right join \n",
      "    CustomerID    Name  OrderAmount\n",
      "0           1  Ramesh          250\n",
      "1           2  Suresh          450\n",
      "2           4     NaN          350\n"
     ]
    }
   ],
   "source": [
    "df_customers = pd.DataFrame({\n",
    "    \"CustomerID\" : [1,2,3],\n",
    "    \"Name\" : [\"Ramesh\", \"Suresh\", \"Kalpesh\"]\n",
    "})\n",
    "\n",
    "# Order DataFrame\n",
    "df_orders = pd.DataFrame({\n",
    "    \"CustomerID\" : [1,2,4],\n",
    "    \"OrderAmount\" : [250, 450, 350]\n",
    "})\n",
    "\n",
    "# Merge\n",
    "df_merged = pd.merge(df_customers, df_orders, on = \"CustomerID\", how = \"right\")\n",
    "print(\"right join \\n\", df_merged)"
   ]
  }
 ],
 "metadata": {
  "kernelspec": {
   "display_name": "Python 3",
   "language": "python",
   "name": "python3"
  },
  "language_info": {
   "codemirror_mode": {
    "name": "ipython",
    "version": 3
   },
   "file_extension": ".py",
   "mimetype": "text/x-python",
   "name": "python",
   "nbconvert_exporter": "python",
   "pygments_lexer": "ipython3",
   "version": "3.10.0"
  }
 },
 "nbformat": 4,
 "nbformat_minor": 5
}
