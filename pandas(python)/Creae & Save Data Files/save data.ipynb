{
 "cells": [
  {
   "cell_type": "markdown",
   "id": "71968714",
   "metadata": {},
   "source": [
    "## Create DataFrame and Save to CSV File"
   ]
  },
  {
   "cell_type": "code",
   "execution_count": 1,
   "id": "14410fae",
   "metadata": {},
   "outputs": [
    {
     "name": "stdout",
     "output_type": "stream",
     "text": [
      "        Name  Age    city\n",
      "0        Ram   10  Mumbai\n",
      "1      Shyam   20   Delhi\n",
      "2  Ghanshyam   30  Jaipur\n"
     ]
    }
   ],
   "source": [
    "import pandas as pd\n",
    "\n",
    "data = {\n",
    "    \"Name\" : [\"Ram\", \"Shyam\", \"Ghanshyam\"],\n",
    "    \"Age\" : [10, 20, 30],\n",
    "    \"city\" : [\"Mumbai\", \"Delhi\", \"Jaipur\"]\n",
    "}\n",
    "\n",
    "df = pd.DataFrame(data)\n",
    "print(df)\n",
    "\n",
    "df.to_csv(\"output.csv\", index = False)"
   ]
  },
  {
   "cell_type": "markdown",
   "id": "32ce6c77",
   "metadata": {},
   "source": [
    "##  Create DataFrame and Save to Excel File"
   ]
  },
  {
   "cell_type": "code",
   "execution_count": 2,
   "id": "8ecaf549",
   "metadata": {},
   "outputs": [
    {
     "name": "stdout",
     "output_type": "stream",
     "text": [
      "        Name  Age    city\n",
      "0        Ram   10  Mumbai\n",
      "1      Shyam   20   Delhi\n",
      "2  Ghanshyam   30  Jaipur\n"
     ]
    }
   ],
   "source": [
    "data = {\n",
    "    \"Name\" : [\"Ram\", \"Shyam\", \"Ghanshyam\"],\n",
    "    \"Age\" : [10, 20, 30],\n",
    "    \"city\" : [\"Mumbai\", \"Delhi\", \"Jaipur\"]\n",
    "}\n",
    "\n",
    "df = pd.DataFrame(data)\n",
    "print(df)\n",
    "\n",
    "df.to_excel(\"output.xlsx\", index = False)"
   ]
  },
  {
   "cell_type": "markdown",
   "id": "2f501f45",
   "metadata": {},
   "source": [
    "##  Create DataFrame and Save to JSON File"
   ]
  },
  {
   "cell_type": "code",
   "execution_count": 3,
   "id": "470585af",
   "metadata": {},
   "outputs": [
    {
     "name": "stdout",
     "output_type": "stream",
     "text": [
      "        Name  Age    city\n",
      "0        Ram   10  Mumbai\n",
      "1      Shyam   20   Delhi\n",
      "2  Ghanshyam   30  Jaipur\n"
     ]
    }
   ],
   "source": [
    "data = {\n",
    "    \"Name\" : [\"Ram\", \"Shyam\", \"Ghanshyam\"],\n",
    "    \"Age\" : [10, 20, 30],\n",
    "    \"city\" : [\"Mumbai\", \"Delhi\", \"Jaipur\"]\n",
    "}\n",
    "\n",
    "df = pd.DataFrame(data)\n",
    "print(df)\n",
    "\n",
    "df.to_json(\"output.json\")"
   ]
  },
  {
   "cell_type": "markdown",
   "id": "3fe3415d",
   "metadata": {},
   "source": [
    "# Data Correlations"
   ]
  },
  {
   "cell_type": "markdown",
   "id": "b761ddd4",
   "metadata": {},
   "source": [
    "Correlation means measuring the relationship between two variables — understanding how one variable changes in relation to another.\n",
    "You can calculate correlations between numerical columns using the .corr() method."
   ]
  },
  {
   "cell_type": "code",
   "execution_count": 19,
   "id": "2fd1382e",
   "metadata": {},
   "outputs": [
    {
     "name": "stdout",
     "output_type": "stream",
     "text": [
      "                 ORDERNUMBER  QUANTITYORDERED  PRICEEACH  ORDERLINENUMBER  \\\n",
      "ORDERNUMBER         1.000000         0.065543  -0.002935        -0.055550   \n",
      "QUANTITYORDERED     0.065543         1.000000   0.005564        -0.018397   \n",
      "PRICEEACH          -0.002935         0.005564   1.000000        -0.020965   \n",
      "ORDERLINENUMBER    -0.055550        -0.018397  -0.020965         1.000000   \n",
      "SALES               0.039919         0.551426   0.657841        -0.058400   \n",
      "QTR_ID             -0.051383        -0.035323   0.008712         0.040716   \n",
      "MONTH_ID           -0.039723        -0.039048   0.005152         0.034016   \n",
      "YEAR_ID             0.904596         0.069535  -0.005938        -0.057367   \n",
      "MSRP               -0.010280         0.017881   0.670625        -0.021067   \n",
      "\n",
      "                    SALES    QTR_ID  MONTH_ID   YEAR_ID      MSRP  \n",
      "ORDERNUMBER      0.039919 -0.051383 -0.039723  0.904596 -0.010280  \n",
      "QUANTITYORDERED  0.551426 -0.035323 -0.039048  0.069535  0.017881  \n",
      "PRICEEACH        0.657841  0.008712  0.005152 -0.005938  0.670625  \n",
      "ORDERLINENUMBER -0.058400  0.040716  0.034016 -0.057367 -0.021067  \n",
      "SALES            1.000000 -0.006796 -0.009605  0.035647  0.635239  \n",
      "QTR_ID          -0.006796  1.000000  0.979300 -0.433052  0.010234  \n",
      "MONTH_ID        -0.009605  0.979300  1.000000 -0.430163  0.008170  \n",
      "YEAR_ID          0.035647 -0.433052 -0.430163  1.000000 -0.014310  \n",
      "MSRP             0.635239  0.010234  0.008170 -0.014310  1.000000  \n"
     ]
    }
   ],
   "source": [
    "# Reading the CSV file with correct encoding (latin1 to handle special characters)\n",
    "df = pd.read_csv(\n",
    "    r\"C:\\Users\\harsh\\Desktop\\Saloni\\pandas(python)\\Sample Data\\sales_data_sample.csv\",\n",
    "    encoding='latin1' \n",
    ")\n",
    "\n",
    "# Calculating the correlation matrix between numeric columns only\n",
    "print(df.corr(numeric_only=True))"
   ]
  }
 ],
 "metadata": {
  "kernelspec": {
   "display_name": "Python 3",
   "language": "python",
   "name": "python3"
  },
  "language_info": {
   "codemirror_mode": {
    "name": "ipython",
    "version": 3
   },
   "file_extension": ".py",
   "mimetype": "text/x-python",
   "name": "python",
   "nbconvert_exporter": "python",
   "pygments_lexer": "ipython3",
   "version": "3.10.0"
  }
 },
 "nbformat": 4,
 "nbformat_minor": 5
}
