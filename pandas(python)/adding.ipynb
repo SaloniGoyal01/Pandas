{
 "cells": [
  {
   "cell_type": "code",
   "execution_count": null,
   "id": "9a89a994",
   "metadata": {},
   "outputs": [
    {
     "name": "stdout",
     "output_type": "stream",
     "text": [
      "        Name  Age  Salary  Performance\n",
      "0        Ram   10   10000           85\n",
      "1      Shyam   20   20000           86\n",
      "2  Ghanshyam   30   30000           87\n",
      "3   Dhansyam   40   40000           88 \n",
      "\n",
      "        Name  Age  Salary  Performance   Bonus\n",
      "0        Ram   10   10000           85  2000.0\n",
      "1      Shyam   20   20000           86  4000.0\n",
      "2  Ghanshyam   30   30000           87  6000.0\n",
      "3   Dhansyam   40   40000           88  8000.0 \n",
      "\n",
      "   Employee_ID       Name  Age  Salary  Performance   Bonus\n",
      "0            1        Ram   10   10000           85  2000.0\n",
      "1            2      Shyam   20   20000           86  4000.0\n",
      "2            3  Ghanshyam   30   30000           87  6000.0\n",
      "3            4   Dhansyam   40   40000           88  8000.0\n"
     ]
    }
   ],
   "source": [
    "import pandas as pd\n",
    "\n",
    "data = {\n",
    "    \"Name\" : [\"Ram\", \"Shyam\", \"Ghanshyam\", \"Dhansyam\"],\n",
    "    \"Age\" : [10, 20, 30, 40],\n",
    "    \"Salary\" : [10000, 20000, 30000, 40000],\n",
    "    \"Performance\" : [85, 86, 87, 88]\n",
    "}\n",
    "\n",
    "df = pd.DataFrame(data)\n",
    "print(df, \"\\n\")\n",
    "\n",
    "#  Direct Assignment Method to Add a New Column.\n",
    "df[\"Bonus\"] = df[\"Salary\"] * 0.2     # Adds 'Bonus' column at the end\n",
    "print(df, \"\\n\")\n",
    "\n",
    "# insert() Method to Add a Column at a Specific Position\n",
    "# Syntax: df.insert(loc, \"column_name\", data)\n",
    "# loc = The index/position where you want to insert the new column.4\n",
    "df.insert(0, \"Employee_ID\", [1,2,3,4])     # Inserts 'Employee_ID' column at position 0 (first column)\n",
    "print(df)"
   ]
  },
  {
   "cell_type": "markdown",
   "id": "3dd3b0b4",
   "metadata": {},
   "source": [
    "UPDATE\n"
   ]
  },
  {
   "cell_type": "code",
   "execution_count": 13,
   "id": "fc252905",
   "metadata": {},
   "outputs": [
    {
     "name": "stdout",
     "output_type": "stream",
     "text": [
      "        Name  Age  Salary  Performance\n",
      "0        Ram   10   10000           85\n",
      "1      Shyam   20   20000           86\n",
      "2  Ghanshyam   30   30000           87\n",
      "3   Dhansyam   40   40000           88 \n",
      "\n",
      "\n",
      " Updated Salary \n",
      " \n",
      "         Name  Age   Salary  Performance\n",
      "0        Ram   10  20000.0           85\n",
      "1      Shyam   20  40000.0           86\n",
      "2  Ghanshyam   30  60000.0           87\n",
      "3   Dhansyam   40  80000.0           88\n"
     ]
    }
   ],
   "source": [
    "data = {\n",
    "    \"Name\" : [\"Ram\", \"Shyam\", \"Ghanshyam\", \"Dhansyam\"],\n",
    "    \"Age\" : [10, 20, 30, 40],\n",
    "    \"Salary\" : [10000, 20000, 30000, 40000],\n",
    "    \"Performance\" : [85, 86, 87, 88]\n",
    "}\n",
    "\n",
    "df = pd.DataFrame(data)\n",
    "print(df, \"\\n\")\n",
    "\n",
    "df[\"Salary\"] = df[\"Salary\"] * 2.0\n",
    "print(\"\\n Updated Salary \\n \\n\",df)"
   ]
  }
 ],
 "metadata": {
  "kernelspec": {
   "display_name": "Python 3",
   "language": "python",
   "name": "python3"
  },
  "language_info": {
   "codemirror_mode": {
    "name": "ipython",
    "version": 3
   },
   "file_extension": ".py",
   "mimetype": "text/x-python",
   "name": "python",
   "nbconvert_exporter": "python",
   "pygments_lexer": "ipython3",
   "version": "3.10.0"
  }
 },
 "nbformat": 4,
 "nbformat_minor": 5
}
