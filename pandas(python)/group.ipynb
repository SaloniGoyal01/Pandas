{
 "cells": [
  {
   "cell_type": "code",
   "execution_count": 3,
   "id": "f5db4905",
   "metadata": {},
   "outputs": [
    {
     "name": "stdout",
     "output_type": "stream",
     "text": [
      "Age\n",
      "22     45000\n",
      "28     98000\n",
      "34    112000\n",
      "Name: Salary, dtype: int64\n"
     ]
    }
   ],
   "source": [
    "import pandas as pd\n",
    "\n",
    "data = {\n",
    "     \"Name\" : [\"Aditi\", \"Babita\", \"Caslay\", \"Divya\", \"Ekta\"],\n",
    "    \"Age\" : [28, 34, 22, 34, 28],\n",
    "    \"Salary\" : [50000, 60000, 45000, 52000, 48000]\n",
    "}\n",
    "\n",
    "df = pd.DataFrame(data)\n",
    "\n",
    "# Grouping the data by 'Age' and calculating the sum of 'Salary' in each Age group\n",
    "grouped = df.groupby(\"Age\")[\"Salary\"].sum()\n",
    "\n",
    "# Displaying the grouped and summed salaries by Age\n",
    "print(grouped)\n",
    "\n",
    "# Output :\n",
    "# Age 22: 45000\n",
    "# Age 28: 50000 + 48000 = 98000\n",
    "# Age 34: 60000 + 52000 = 112000"
   ]
  },
  {
   "cell_type": "code",
   "execution_count": null,
   "id": "7f2837f8",
   "metadata": {},
   "outputs": [
    {
     "name": "stdout",
     "output_type": "stream",
     "text": [
      "Age  Name  \n",
      "22   Caslay    45000\n",
      "28   Aditi     50000\n",
      "     Ekta      48000\n",
      "34   Babita    60000\n",
      "     Divya     52000\n",
      "Name: Salary, dtype: int64\n"
     ]
    }
   ],
   "source": [
    "data = {\n",
    "     \"Name\" : [\"Aditi\", \"Babita\", \"Caslay\", \"Divya\", \"Ekta\"],\n",
    "    \"Age\" : [28, 34, 22, 34, 28],\n",
    "    \"Salary\" : [50000, 60000, 45000, 52000, 48000]\n",
    "}\n",
    "\n",
    "df = pd.DataFrame(data)\n",
    "\n",
    "# Grouping the DataFrame by 'Age' and 'Name', then summing the Salary\n",
    "grouped = df.groupby([\"Age\", \"Name\"])[\"Salary\"].sum()\n",
    "\n",
    "# Here, .sum() doesn't actually add anything because \n",
    "# no (Age, Name) combination is repeated in the data.\n",
    "# So, the salary shown remains the same as original.\n",
    "\n",
    "# Printing the grouped (but unchanged in value) Salary data\n",
    "print(grouped)"
   ]
  },
  {
   "cell_type": "code",
   "execution_count": null,
   "id": "50ade1d7",
   "metadata": {},
   "outputs": [
    {
     "name": "stdout",
     "output_type": "stream",
     "text": [
      "Grouped Salary by Age and Name:\n",
      " Age  Name  \n",
      "22   Caslay    45000\n",
      "28   Aditi     80000\n",
      "     Ekta      48000\n",
      "34   Babita    60000\n",
      "     Divya     72000\n",
      "Name: Salary, dtype: int64\n"
     ]
    }
   ],
   "source": [
    "data = {\n",
    "    \"Name\" : [\"Aditi\", \"Babita\", \"Caslay\", \"Divya\", \"Ekta\", \"Aditi\", \"Divya\"],\n",
    "    \"Age\" : [28, 34, 22, 34, 28, 28, 34],\n",
    "    \"Salary\" : [50000, 60000, 45000, 52000, 48000, 30000, 20000]\n",
    "}\n",
    "\n",
    "df = pd.DataFrame(data)\n",
    "\n",
    "# Grouping the DataFrame by 'Age' and 'Name' together\n",
    "# For each (Age, Name) pair, summing up their Salary\n",
    "grouped = df.groupby([\"Age\", \"Name\"])[\"Salary\"].sum()\n",
    "\n",
    "# Printing the grouped and aggregated Salary data\n",
    "print(\"Grouped Salary by Age and Name:\\n\", grouped)\n"
   ]
  }
 ],
 "metadata": {
  "kernelspec": {
   "display_name": "Python 3",
   "language": "python",
   "name": "python3"
  },
  "language_info": {
   "codemirror_mode": {
    "name": "ipython",
    "version": 3
   },
   "file_extension": ".py",
   "mimetype": "text/x-python",
   "name": "python",
   "nbconvert_exporter": "python",
   "pygments_lexer": "ipython3",
   "version": "3.10.0"
  }
 },
 "nbformat": 4,
 "nbformat_minor": 5
}
