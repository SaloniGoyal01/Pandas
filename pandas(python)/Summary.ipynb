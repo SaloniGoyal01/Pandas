{
 "cells": [
  {
   "cell_type": "code",
   "execution_count": 4,
   "id": "fc556c76",
   "metadata": {},
   "outputs": [
    {
     "name": "stdout",
     "output_type": "stream",
     "text": [
      "Average Salary: 23000.0\n",
      "Maximum Salary: 25000\n",
      "Minimum Salary: 20000\n",
      "Sum of all Salaries: 115000\n"
     ]
    }
   ],
   "source": [
    "import pandas as pd\n",
    "\n",
    "data = {\n",
    "     \"Name\" : [\"Aditi\", \"Babita\", \"Caslay\", \"Divya\", \"Ekta\"],\n",
    "    \"Age\" : [30, 25, 30, 25, 27],\n",
    "    \"Salary\" : [20000, 22000, 24000, 25000, 24000]\n",
    "}\n",
    "\n",
    "df = pd.DataFrame(data)\n",
    "\n",
    "\n",
    "# Calculating the average (mean) salary\n",
    "avg_salary = df[\"Salary\"].mean()\n",
    "print(\"Average Salary:\", avg_salary)\n",
    "\n",
    "# Finding the maximum salary\n",
    "max_salary = df[\"Salary\"].max()\n",
    "print(\"Maximum Salary:\", max_salary)\n",
    "\n",
    "# Finding the minimum salary\n",
    "min_salary = df[\"Salary\"].min()\n",
    "print(\"Minimum Salary:\", min_salary)\n",
    "\n",
    "# Calculating the sum of all salaries\n",
    "sum_salary = df[\"Salary\"].sum()\n",
    "print(\"Sum of all Salaries:\", sum_salary)\n"
   ]
  }
 ],
 "metadata": {
  "kernelspec": {
   "display_name": "Python 3",
   "language": "python",
   "name": "python3"
  },
  "language_info": {
   "codemirror_mode": {
    "name": "ipython",
    "version": 3
   },
   "file_extension": ".py",
   "mimetype": "text/x-python",
   "name": "python",
   "nbconvert_exporter": "python",
   "pygments_lexer": "ipython3",
   "version": "3.10.0"
  }
 },
 "nbformat": 4,
 "nbformat_minor": 5
}
