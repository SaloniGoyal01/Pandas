{
 "cells": [
  {
   "cell_type": "code",
   "execution_count": 5,
   "id": "4ea43f23",
   "metadata": {},
   "outputs": [
    {
     "name": "stdout",
     "output_type": "stream",
     "text": [
      "Displaying the info of dataset:\n",
      "<class 'pandas.core.frame.DataFrame'>\n",
      "RangeIndex: 3 entries, 0 to 2\n",
      "Data columns (total 3 columns):\n",
      " #   Column  Non-Null Count  Dtype \n",
      "---  ------  --------------  ----- \n",
      " 0   Name    3 non-null      object\n",
      " 1   Age     3 non-null      int64 \n",
      " 2   City    3 non-null      object\n",
      "dtypes: int64(1), object(2)\n",
      "memory usage: 200.0+ bytes\n"
     ]
    }
   ],
   "source": [
    "import pandas as pd\n",
    "\n",
    "# Creating a dictionary with sample data\n",
    "data = {\n",
    "    \"Name\" : [\"Ram\", \"Shyam\", \"Ghanshyam\"],\n",
    "    \"Age\" : [10, 20, 30],\n",
    "    \"City\" : [\"Mumbai\", \"Jaipur\", \"Delhiu\"]\n",
    "}\n",
    "\n",
    "# Creating DataFrame from dictionary\n",
    "df = pd.DataFrame(data)\n",
    "\n",
    "print(\"Displaying the info of dataset:\")\n",
    "\n",
    "# df.info() displays:\n",
    "# 1. Total number of entries (rows) in DataFrame\n",
    "# 2. Index range (starting and ending index)\n",
    "# 3. List of columns with:\n",
    "#    - Column name\n",
    "#    - Number of non-null (non-empty) values in each column\n",
    "#    - Data type of each column (e.g., int64, object)\n",
    "# 4. Total memory usage of the DataFrame\n",
    "df.info()\n"
   ]
  }
 ],
 "metadata": {
  "kernelspec": {
   "display_name": "Python 3",
   "language": "python",
   "name": "python3"
  },
  "language_info": {
   "codemirror_mode": {
    "name": "ipython",
    "version": 3
   },
   "file_extension": ".py",
   "mimetype": "text/x-python",
   "name": "python",
   "nbconvert_exporter": "python",
   "pygments_lexer": "ipython3",
   "version": "3.10.0"
  }
 },
 "nbformat": 4,
 "nbformat_minor": 5
}
