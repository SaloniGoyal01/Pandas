{
 "cells": [
  {
   "cell_type": "code",
   "execution_count": null,
   "id": "d870e0da",
   "metadata": {},
   "outputs": [
    {
     "name": "stdout",
     "output_type": "stream",
     "text": [
      "        Name   Age   Salary  Performance\n",
      "0        Ram  10.0  10000.0         85.0\n",
      "1       None   NaN      NaN          NaN\n",
      "2  Ghanshyam  30.0  30000.0         87.0\n",
      "3   Dhansyam  40.0  40000.0         88.0 \n",
      "\n",
      "        Name   Age   Salary  Performance\n",
      "0        Ram  10.0  10000.0         85.0\n",
      "2  Ghanshyam  30.0  30000.0         87.0\n",
      "3   Dhansyam  40.0  40000.0         88.0\n"
     ]
    }
   ],
   "source": [
    "import pandas as pd\n",
    "\n",
    "data = {\n",
    "    \"Name\" : [\"Ram\", None, \"Ghanshyam\", \"Dhansyam\"],\n",
    "    \"Age\" : [10, None, 30, 40],\n",
    "    \"Salary\" : [10000, None, 30000, 40000],\n",
    "    \"Performance\" : [85, None, 87, 88]\n",
    "}\n",
    "\n",
    "df = pd.DataFrame(data)\n",
    "print(df, \"\\n\")  \n",
    "\n",
    "# Removing rows that have any NaN values\n",
    "df.dropna(inplace=True)\n",
    "print(df)    # Displaying the DataFrame after removing rows with NaN"
   ]
  }
 ],
 "metadata": {
  "kernelspec": {
   "display_name": "Python 3",
   "language": "python",
   "name": "python3"
  },
  "language_info": {
   "codemirror_mode": {
    "name": "ipython",
    "version": 3
   },
   "file_extension": ".py",
   "mimetype": "text/x-python",
   "name": "python",
   "nbconvert_exporter": "python",
   "pygments_lexer": "ipython3",
   "version": "3.10.0"
  }
 },
 "nbformat": 4,
 "nbformat_minor": 5
}
