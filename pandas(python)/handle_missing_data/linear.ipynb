{
 "cells": [
  {
   "cell_type": "code",
   "execution_count": 4,
   "id": "bd63f58a",
   "metadata": {},
   "outputs": [
    {
     "name": "stdout",
     "output_type": "stream",
     "text": [
      "Before Interpolation \n",
      "\n",
      "   Time  Value\n",
      "0     1   10.0\n",
      "1     2    NaN\n",
      "2     3   30.0\n",
      "3     4    NaN\n",
      "4     5   50.0\n",
      "\n",
      " After Interpolation \n",
      "\n",
      "   Time  Value\n",
      "0     1   10.0\n",
      "1     2   20.0\n",
      "2     3   30.0\n",
      "3     4   40.0\n",
      "4     5   50.0\n"
     ]
    }
   ],
   "source": [
    "import pandas as pd  \n",
    "\n",
    "data = {\n",
    "    \"Time\" : [1, 2, 3, 4, 5],\n",
    "    \"Value\" : [10, None, 30, None, 50] \n",
    "}\n",
    "\n",
    "# Creating DataFrame from the dictionary\n",
    "df = pd.DataFrame(data)\n",
    "\n",
    "print(\"Before Interpolation \\n\")\n",
    "print(df)  # Displaying the DataFrame with missing values\n",
    "\n",
    "# Filling the missing values in the 'Value' column using linear interpolation\n",
    "df[\"Value\"] = df[\"Value\"].interpolate(method=\"linear\")\n",
    "\n",
    "print(\"\\n After Interpolation \\n\")\n",
    "print(df)  # Displaying the DataFrame after linear interpolation\n"
   ]
  }
 ],
 "metadata": {
  "kernelspec": {
   "display_name": "Python 3",
   "language": "python",
   "name": "python3"
  },
  "language_info": {
   "codemirror_mode": {
    "name": "ipython",
    "version": 3
   },
   "file_extension": ".py",
   "mimetype": "text/x-python",
   "name": "python",
   "nbconvert_exporter": "python",
   "pygments_lexer": "ipython3",
   "version": "3.10.0"
  }
 },
 "nbformat": 4,
 "nbformat_minor": 5
}
