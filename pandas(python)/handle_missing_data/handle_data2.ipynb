{
 "cells": [
  {
   "cell_type": "code",
   "execution_count": 8,
   "id": "019ce07b",
   "metadata": {},
   "outputs": [
    {
     "name": "stdout",
     "output_type": "stream",
     "text": [
      "        Name   Age   Salary  Performance\n",
      "0        Ram  10.0  10000.0         85.0\n",
      "1       None   NaN      NaN          NaN\n",
      "2  Ghanshyam  30.0  30000.0         87.0\n",
      "3   Dhansyam  40.0  40000.0         88.0 \n",
      "\n",
      "        Name        Age        Salary  Performance\n",
      "0        Ram  10.000000  10000.000000         85.0\n",
      "1       None  26.666667  26666.666667          NaN\n",
      "2  Ghanshyam  30.000000  30000.000000         87.0\n",
      "3   Dhansyam  40.000000  40000.000000         88.0\n"
     ]
    }
   ],
   "source": [
    "import pandas as pd\n",
    "\n",
    "data = {\n",
    "    \"Name\" : [\"Ram\", None, \"Ghanshyam\", \"Dhansyam\"],\n",
    "    \"Age\" : [10, None, 30, 40],\n",
    "    \"Salary\" : [10000, None, 30000, 40000],\n",
    "    \"Performance\" : [85, None, 87, 88]\n",
    "}\n",
    "\n",
    "df = pd.DataFrame(data)\n",
    "print(df, \"\\n\")  \n",
    "\n",
    "# df.fillna(0, inplace=True)\n",
    "\n",
    "\n",
    "# Filling the null value in the 'Age' column with the mean of the existing Age values\n",
    "df[\"Age\"].fillna(df[\"Age\"].mean(), inplace=True)\n",
    "\n",
    "# Filling the null value in the 'Salary' column with the mean of the existing Salary values\n",
    "df[\"Salary\"].fillna(df[\"Salary\"].mean(), inplace=True)\n",
    "\n",
    "# Displaying the updated DataFrame after filling missing values in 'Age' and 'Salary'\n",
    "print(df)\n"
   ]
  }
 ],
 "metadata": {
  "kernelspec": {
   "display_name": "Python 3",
   "language": "python",
   "name": "python3"
  },
  "language_info": {
   "codemirror_mode": {
    "name": "ipython",
    "version": 3
   },
   "file_extension": ".py",
   "mimetype": "text/x-python",
   "name": "python",
   "nbconvert_exporter": "python",
   "pygments_lexer": "ipython3",
   "version": "3.10.0"
  }
 },
 "nbformat": 4,
 "nbformat_minor": 5
}
