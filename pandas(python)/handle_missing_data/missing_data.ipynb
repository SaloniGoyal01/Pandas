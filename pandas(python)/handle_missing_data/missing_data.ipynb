{
 "cells": [
  {
   "cell_type": "code",
   "execution_count": null,
   "id": "1318fc1b",
   "metadata": {},
   "outputs": [
    {
     "name": "stdout",
     "output_type": "stream",
     "text": [
      "        Name   Age   Salary  Performance\n",
      "0        Ram  10.0  10000.0         85.0\n",
      "1       None   NaN      NaN          NaN\n",
      "2  Ghanshyam  30.0  30000.0         87.0\n",
      "3   Dhansyam  40.0  40000.0         88.0 \n",
      "\n",
      "    Name    Age  Salary  Performance\n",
      "0  False  False   False        False\n",
      "1   True   True    True         True\n",
      "2  False  False   False        False\n",
      "3  False  False   False        False\n"
     ]
    }
   ],
   "source": [
    "import pandas as pd\n",
    "\n",
    "data = {\n",
    "    \"Name\" : [\"Ram\", None, \"Ghanshyam\", \"Dhansyam\"],\n",
    "    \"Age\" : [10, None, 30, 40],\n",
    "    \"Salary\" : [10000, None, 30000, 40000],\n",
    "    \"Performance\" : [85, None, 87, 88]\n",
    "}\n",
    "\n",
    "df = pd.DataFrame(data)\n",
    "print(df, \"\\n\")  \n",
    "\n",
    "# Checking for missing values in the DataFrame\n",
    "# df.isnull() returns a DataFrame of True/False where True = value is missing\n",
    "print(df.isnull())"
   ]
  },
  {
   "cell_type": "code",
   "execution_count": null,
   "id": "67a438f6",
   "metadata": {},
   "outputs": [
    {
     "name": "stdout",
     "output_type": "stream",
     "text": [
      "        Name   Age   Salary  Performance\n",
      "0        Ram  10.0  10000.0         85.0\n",
      "1       None   NaN      NaN          NaN\n",
      "2  Ghanshyam  30.0  30000.0         87.0\n",
      "3   Dhansyam  40.0  40000.0         88.0 \n",
      "\n",
      "Name           1\n",
      "Age            1\n",
      "Salary         1\n",
      "Performance    1\n",
      "dtype: int64\n"
     ]
    }
   ],
   "source": [
    "data = {\n",
    "    \"Name\" : [\"Ram\", None, \"Ghanshyam\", \"Dhansyam\"],\n",
    "    \"Age\" : [10, None, 30, 40],\n",
    "    \"Salary\" : [10000, None, 30000, 40000],\n",
    "    \"Performance\" : [85, None, 87, 88]\n",
    "}\n",
    "\n",
    "df = pd.DataFrame(data)\n",
    "print(df, \"\\n\")  \n",
    "\n",
    "# Checking the count of missing (null/NaN) values in each column\n",
    "print(df.isnull().sum())"
   ]
  }
 ],
 "metadata": {
  "kernelspec": {
   "display_name": "Python 3",
   "language": "python",
   "name": "python3"
  },
  "language_info": {
   "codemirror_mode": {
    "name": "ipython",
    "version": 3
   },
   "file_extension": ".py",
   "mimetype": "text/x-python",
   "name": "python",
   "nbconvert_exporter": "python",
   "pygments_lexer": "ipython3",
   "version": "3.10.0"
  }
 },
 "nbformat": 4,
 "nbformat_minor": 5
}
