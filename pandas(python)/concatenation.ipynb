{
 "cells": [
  {
   "cell_type": "code",
   "execution_count": 4,
   "id": "ef4e76b8",
   "metadata": {},
   "outputs": [
    {
     "name": "stdout",
     "output_type": "stream",
     "text": [
      "   CustomerID   Name\n",
      "0           1  Gopal\n",
      "1           2  Mohan\n",
      "2           3  Aditi\n",
      "3           4   Ekta\n"
     ]
    }
   ],
   "source": [
    "import pandas as pd\n",
    "\n",
    "# Region1\n",
    "df_Region1 = pd.DataFrame({\n",
    "    \"CustomerID\" : [1,2],\n",
    "    \"Name\" : [\"Gopal\", \"Mohan\"]\n",
    "})\n",
    "\n",
    "# Region2\n",
    "df_Region2 = pd.DataFrame({\n",
    "    \"CustomerID\" : [3,4],\n",
    "    \"Name\" : [\"Aditi\", \"Ekta\"]\n",
    "})\n",
    "\n",
    "# Concatenating Region1 and Region2 DataFrames vertically (stacking rows)\n",
    "# axis=0 means vertical concatenation (rows)\n",
    "# ignore_index=True resets the index in the final concatenated DataFrame\n",
    "df_concat = pd.concat([df_Region1, df_Region2], ignore_index=True)\n",
    "\n",
    "# Printing the final concatenated DataFrame\n",
    "print(df_concat)"
   ]
  },
  {
   "cell_type": "code",
   "execution_count": 6,
   "id": "04251cae",
   "metadata": {},
   "outputs": [
    {
     "name": "stdout",
     "output_type": "stream",
     "text": [
      "   0      1  2      3\n",
      "0  1  Gopal  3  Aditi\n",
      "1  2  Mohan  4   Ekta\n"
     ]
    }
   ],
   "source": [
    "import pandas as pd\n",
    "\n",
    "# Region1\n",
    "df_Region1 = pd.DataFrame({\n",
    "    \"CustomerID\" : [1,2],\n",
    "    \"Name\" : [\"Gopal\", \"Mohan\"]\n",
    "})\n",
    "\n",
    "# Region2\n",
    "df_Region2 = pd.DataFrame({\n",
    "    \"CustomerID\" : [3,4],\n",
    "    \"Name\" : [\"Aditi\", \"Ekta\"]\n",
    "})\n",
    "\n",
    "# Concatenating Region1 and Region2 DataFrames horizontally\n",
    "# axis=1 means columns will be concatenated side by side\n",
    "# ignore_index=True renames the columns to 0,1,2,... instead of keeping original names\n",
    "df_concat = pd.concat([df_Region1, df_Region2], axis=1, ignore_index=True)\n",
    "\n",
    "# Printing the final horizontally concatenated DataFrame\n",
    "print(df_concat)"
   ]
  }
 ],
 "metadata": {
  "kernelspec": {
   "display_name": "Python 3",
   "language": "python",
   "name": "python3"
  },
  "language_info": {
   "codemirror_mode": {
    "name": "ipython",
    "version": 3
   },
   "file_extension": ".py",
   "mimetype": "text/x-python",
   "name": "python",
   "nbconvert_exporter": "python",
   "pygments_lexer": "ipython3",
   "version": "3.10.0"
  }
 },
 "nbformat": 4,
 "nbformat_minor": 5
}
