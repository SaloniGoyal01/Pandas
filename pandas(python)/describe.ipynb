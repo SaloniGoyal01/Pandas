{
 "cells": [
  {
   "cell_type": "code",
   "execution_count": 2,
   "id": "ed165694",
   "metadata": {},
   "outputs": [
    {
     "name": "stdout",
     "output_type": "stream",
     "text": [
      "Sample Data Frame\n",
      "\n",
      "        Name  Age  Salary  Performance\n",
      "0        Ram   10   10000           85\n",
      "1      Shyam   20   20000           86\n",
      "2  Ghanshyam   30   30000           87\n",
      "3   Dhansyam   40   40000           88\n",
      "\n",
      "Descrie Statistics\n",
      "\n",
      "             Age        Salary  Performance\n",
      "count   4.000000      4.000000     4.000000\n",
      "mean   25.000000  25000.000000    86.500000\n",
      "std    12.909944  12909.944487     1.290994\n",
      "min    10.000000  10000.000000    85.000000\n",
      "25%    17.500000  17500.000000    85.750000\n",
      "50%    25.000000  25000.000000    86.500000\n",
      "75%    32.500000  32500.000000    87.250000\n",
      "max    40.000000  40000.000000    88.000000\n"
     ]
    }
   ],
   "source": [
    "import pandas as pd\n",
    "\n",
    "data = {\n",
    "    \"Name\" : [\"Ram\", \"Shyam\", \"Ghanshyam\", \"Dhansyam\"],\n",
    "    \"Age\" : [10,20,30,40],\n",
    "    \"Salary\" : [10000, 20000, 30000, 40000],\n",
    "    \"Performance\" : [85, 86, 87, 88]\n",
    "}\n",
    "\n",
    "df = pd.DataFrame(data)\n",
    "print(\"Sample Data Frame\\n\")\n",
    "print(df)\n",
    "\n",
    "print(\"\\nDescrie Statistics\\n\")\n",
    "print(df.describe())"
   ]
  },
  {
   "cell_type": "code",
   "execution_count": 3,
   "id": "4569644c",
   "metadata": {},
   "outputs": [
    {
     "name": "stdout",
     "output_type": "stream",
     "text": [
      "        Name  Age  Salary  Performance\n",
      "0        Ram   10   10000           85\n",
      "1      Shyam   20   20000           86\n",
      "2  Ghanshyam   30   30000           87\n",
      "3   Dhansyam   40   40000           88\n",
      "Shape : (4, 4)\n",
      "Column Names: Index(['Name', 'Age', 'Salary', 'Performance'], dtype='object')\n"
     ]
    }
   ],
   "source": [
    "# Creating sample data dictionary\n",
    "data = {\n",
    "    \"Name\" : [\"Ram\", \"Shyam\", \"Ghanshyam\", \"Dhansyam\"],\n",
    "    \"Age\" : [10, 20, 30, 40],\n",
    "    \"Salary\" : [10000, 20000, 30000, 40000],\n",
    "    \"Performance\" : [85, 86, 87, 88]\n",
    "}\n",
    "\n",
    "# Creating DataFrame from the data dictionary\n",
    "df = pd.DataFrame(data)\n",
    "\n",
    "# Display the complete DataFrame\n",
    "print(df)\n",
    "\n",
    "# The f in f\"\" is used for an f-string, also known as formatted string literal in Python.\n",
    "# Display shape of the DataFrame (rows, columns)\n",
    "# f-string used here to directly embed the variable value inside the string\n",
    "print(f\"Shape : {df.shape}\")\n",
    "\n",
    "# Display the column names of the DataFrame\n",
    "# Again using f-string for clear formatting\n",
    "print(f\"Column Names: {df.columns}\")"
   ]
  },
  {
   "cell_type": "code",
   "execution_count": null,
   "id": "a0df8d57",
   "metadata": {},
   "outputs": [
    {
     "name": "stdout",
     "output_type": "stream",
     "text": [
      "        Name  Age  Salary  Performance\n",
      "0        Ram   10   10000           85\n",
      "1      Shyam   20   20000           86\n",
      "2  Ghanshyam   30   30000           87\n",
      "3   Dhansyam   40   40000           88\n",
      "\n",
      " Name : \n",
      " 0          Ram\n",
      "1        Shyam\n",
      "2    Ghanshyam\n",
      "3     Dhansyam\n",
      "Name: Name, dtype: object\n",
      "\n",
      " Name and Salary : \n",
      "         Name  Salary\n",
      "0        Ram   10000\n",
      "1      Shyam   20000\n",
      "2  Ghanshyam   30000\n",
      "3   Dhansyam   40000\n"
     ]
    }
   ],
   "source": [
    "data = {\n",
    "    \"Name\" : [\"Ram\", \"Shyam\", \"Ghanshyam\", \"Dhansyam\"],\n",
    "    \"Age\" : [10, 20, 30, 40],\n",
    "    \"Salary\" : [10000, 20000, 30000, 40000],\n",
    "    \"Performance\" : [85, 86, 87, 88]\n",
    "}\n",
    "\n",
    "df = pd.DataFrame(data)\n",
    "print(df)\n",
    "\n",
    "#  Selecting Single Column\n",
    "name = df[\"Name\"]       # Accessing the \"Name\" column from the DataFrame as a Series (1D data)\n",
    "print(\"\\n Name : \\n\", name)\n",
    "\n",
    "# Selecting Multiple Columns\n",
    "subset = df[[\"Name\", \"Salary\"]]    # Accessing multiple columns (\"Name\" and \"Salary\") from the DataFrame\n",
    "print(\"\\n Name and Salary : \\n\", subset)"
   ]
  },
  {
   "cell_type": "code",
   "execution_count": null,
   "id": "cf85081b",
   "metadata": {},
   "outputs": [
    {
     "name": "stdout",
     "output_type": "stream",
     "text": [
      "        Name  Age  Salary  Performance\n",
      "0        Ram   10   10000           85\n",
      "1      Shyam   20   20000           86\n",
      "2  Ghanshyam   30   30000           87\n",
      "3   Dhansyam   40   40000           88\n",
      "\n",
      " Employee with salary > 20000 \n",
      "\n",
      "        Name  Age  Salary  Performance\n",
      "2  Ghanshyam   30   30000           87\n",
      "3   Dhansyam   40   40000           88\n",
      "\n",
      " Employee list of Age > 10 + Salary < 30000 \n",
      "\n",
      "    Name  Age  Salary  Performance\n",
      "1  Shyam   20   20000           86\n",
      "\n",
      " Either Employees older than 20 OR performance of them is greter than 90 \n",
      "\n",
      "        Name  Age  Salary  Performance\n",
      "2  Ghanshyam   30   30000           87\n",
      "3   Dhansyam   40   40000           88\n"
     ]
    }
   ],
   "source": [
    "data = {\n",
    "    \"Name\" : [\"Ram\", \"Shyam\", \"Ghanshyam\", \"Dhansyam\"],\n",
    "    \"Age\" : [10, 20, 30, 40],\n",
    "    \"Salary\" : [10000, 20000, 30000, 40000],\n",
    "    \"Performance\" : [85, 86, 87, 88]\n",
    "}\n",
    "\n",
    "df = pd.DataFrame(data)\n",
    "print(df)\n",
    "\n",
    "high_salary = df[df[\"Salary\"] > 20000]\n",
    "print(\"\\n Employee with salary > 20000 \\n\")\n",
    "print(high_salary)\n",
    "\n",
    "\n",
    "# Filter using AND condition: \n",
    "filtered_and = df[(df[\"Salary\"] < 30000) & (df[\"Age\"] > 10)]\n",
    "print(\"\\n Employee list of Age > 10 + Salary < 30000 \\n\")\n",
    "print(filtered_and)\n",
    "\n",
    "# Filter using OR condition: \n",
    "filtered_or = df[(df[\"Age\"] > 20) | (df[\"Performance\"] > 90)]\n",
    "print(\"\\n Either Employees older than 20 OR performance of them is greter than 90 \\n\")\n",
    "print(filtered_or)"
   ]
  }
 ],
 "metadata": {
  "kernelspec": {
   "display_name": "Python 3",
   "language": "python",
   "name": "python3"
  },
  "language_info": {
   "codemirror_mode": {
    "name": "ipython",
    "version": 3
   },
   "file_extension": ".py",
   "mimetype": "text/x-python",
   "name": "python",
   "nbconvert_exporter": "python",
   "pygments_lexer": "ipython3",
   "version": "3.10.0"
  }
 },
 "nbformat": 4,
 "nbformat_minor": 5
}
