{
 "cells": [
  {
   "cell_type": "markdown",
   "id": "00734624",
   "metadata": {},
   "source": [
    "## Plotting\n",
    "\n",
    "Pandas uses the plot() method to create diagrams.\n",
    "We can use Pyplot, a submodule of the Matplotlib library to visualize the diagram on the screen."
   ]
  },
  {
   "cell_type": "code",
   "execution_count": 3,
   "id": "25ee65b2",
   "metadata": {},
   "outputs": [],
   "source": [
    "import matplotlib\n",
    "matplotlib.use('Agg')  # Non-GUI backend\n",
    "\n",
    "import pandas as pd\n",
    "import matplotlib.pyplot as plt\n",
    "\n",
    "df = pd.read_csv(r'C:\\Users\\harsh\\Desktop\\Saloni\\pandas(python)\\Sample Data\\sales_data_sample.csv', encoding='latin1')\n",
    "df.plot()\n",
    "\n",
    "# Save the plot as an image file\n",
    "plt.savefig('output_plot.png')\n"
   ]
  },
  {
   "cell_type": "markdown",
   "id": "6ec20856",
   "metadata": {},
   "source": [
    "## Scatter Plot\n",
    "Specify that you want a scatter plot with the kind argument:\n",
    "kind = 'scatter'\n",
    "A scatter plot needs an x- and a y-axis."
   ]
  },
  {
   "cell_type": "code",
   "execution_count": null,
   "id": "eacc45a9",
   "metadata": {},
   "outputs": [
    {
     "name": "stderr",
     "output_type": "stream",
     "text": [
      "C:\\Users\\harsh\\AppData\\Local\\Temp\\ipykernel_9808\\2042786449.py:8: UserWarning: Matplotlib is currently using agg, which is a non-GUI backend, so cannot show the figure.\n",
      "  plt.show()\n"
     ]
    }
   ],
   "source": [
    "# In the example below we will use \"Duration\" for the x-axis and \"Calories\" for the y-axis.\n",
    "# Include the x and y arguments like this:\n",
    "# x = 'Duration', y = 'Calories'\n",
    "\n",
    "df = pd.read_csv(r'C:\\Users\\harsh\\Desktop\\Saloni\\pandas(python)\\Sample Data\\sales_data_sample.csv', encoding='latin1')\n",
    "df.plot(kind = 'scatter', x = 'SALES', y = 'MONTH_ID')\n",
    "\n",
    "plt.show()\n",
    "\n",
    "#Two  lines to make our compiler able to draw:\n",
    "plt.savefig('scatter_plot.png')\n",
    "\n"
   ]
  },
  {
   "cell_type": "markdown",
   "id": "c09d280f",
   "metadata": {},
   "source": [
    "## Histogram\n",
    "Use the kind argument to specify that you want a histogram:\n",
    "kind = 'hist'\n",
    "A histogram needs only one column.\n",
    "A histogram shows us the frequency of each interval, e.g. how many workouts lasted between 50 and 60 minutes?"
   ]
  },
  {
   "cell_type": "code",
   "execution_count": 14,
   "id": "0928b571",
   "metadata": {},
   "outputs": [],
   "source": [
    "# Load the CSV with correct encoding\n",
    "df = pd.read_csv(r'C:\\Users\\harsh\\Desktop\\Saloni\\pandas(python)\\Sample Data\\sales_data_sample.csv', encoding='latin1')\n",
    "\n",
    "\n",
    "# Replace 'DURATION' with the actual column name from the print above\n",
    "df['ORDERNUMBER'].plot(kind='hist')\n",
    "\n",
    "plt.savefig('histogram_plot.png')\n"
   ]
  }
 ],
 "metadata": {
  "kernelspec": {
   "display_name": "Python 3",
   "language": "python",
   "name": "python3"
  },
  "language_info": {
   "codemirror_mode": {
    "name": "ipython",
    "version": 3
   },
   "file_extension": ".py",
   "mimetype": "text/x-python",
   "name": "python",
   "nbconvert_exporter": "python",
   "pygments_lexer": "ipython3",
   "version": "3.10.0"
  }
 },
 "nbformat": 4,
 "nbformat_minor": 5
}
