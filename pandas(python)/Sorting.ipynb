{
 "cells": [
  {
   "cell_type": "code",
   "execution_count": 2,
   "id": "c422f3ba",
   "metadata": {},
   "outputs": [
    {
     "name": "stdout",
     "output_type": "stream",
     "text": [
      "Sorted Age by Descending \n",
      "      Name  Age  Salary\n",
      "1  Babita   25   22000\n",
      "2  Caslay   27   24000\n",
      "0   Aditi   30   20000\n"
     ]
    }
   ],
   "source": [
    "import pandas as pd\n",
    "\n",
    "data = {\n",
    "    \"Name\" : [\"Aditi\", \"Babita\", \"Caslay\"],\n",
    "    \"Age\" : [30, 25, 27],\n",
    "    \"Salary\" : [20000, 22000, 24000]\n",
    "}\n",
    "\n",
    "df = pd.DataFrame(data)\n",
    "\n",
    "# Syntax : df.sort_values(by='column_name', ascending=True/False, inplace=True/False)\n",
    "# Sorting the DataFrame by 'Age' in ascending order\n",
    "df.sort_values(by=\"Age\", ascending = True, inplace = True)\n",
    "print(\"Sorted Age by Descending \\n\", df)"
   ]
  },
  {
   "cell_type": "code",
   "execution_count": 3,
   "id": "3fd4c6ff",
   "metadata": {},
   "outputs": [
    {
     "name": "stdout",
     "output_type": "stream",
     "text": [
      "Sorted Age by Descending \n",
      "      Name  Age  Salary\n",
      "0   Aditi   30   20000\n",
      "2  Caslay   27   24000\n",
      "1  Babita   25   22000\n"
     ]
    }
   ],
   "source": [
    "data = {\n",
    "    \"Name\" : [\"Aditi\", \"Babita\", \"Caslay\"],\n",
    "    \"Age\" : [30, 25, 27],\n",
    "    \"Salary\" : [20000, 22000, 24000]\n",
    "}\n",
    "\n",
    "df = pd.DataFrame(data)\n",
    "\n",
    "# Sorting the DataFrame by 'Age' in descending order\n",
    "df.sort_values(by=\"Age\", ascending = False, inplace = True)\n",
    "print(\"Sorted Age by Descending \\n\", df)"
   ]
  },
  {
   "cell_type": "code",
   "execution_count": 5,
   "id": "638dccc6",
   "metadata": {},
   "outputs": [
    {
     "name": "stdout",
     "output_type": "stream",
     "text": [
      "Sorted Age by Descending \n",
      "      Name  Age  Salary\n",
      "3   Divya   25   25000\n",
      "1  Babita   25   22000\n",
      "4    Ekta   27   24000\n",
      "2  Caslay   30   24000\n",
      "0   Aditi   30   20000\n"
     ]
    }
   ],
   "source": [
    "data = {\n",
    "     \"Name\" : [\"Aditi\", \"Babita\", \"Caslay\", \"Divya\", \"Ekta\"],\n",
    "    \"Age\" : [30, 25, 30, 25, 27],\n",
    "    \"Salary\" : [20000, 22000, 24000, 25000, 24000]\n",
    "}\n",
    "\n",
    "df = pd.DataFrame(data)\n",
    "\n",
    "# Sorting the DataFrame:\n",
    "# 1. By 'Age' in ascending order\n",
    "# 2. If Age is the same, then by 'Salary' in descending order\n",
    "df.sort_values(by=[\"Age\", \"Salary\"], ascending = [True, False], inplace = True)\n",
    "\n",
    "# Displaying the sorted DataFrame\n",
    "print(\"Sorted Age by Descending \\n\", df)"
   ]
  }
 ],
 "metadata": {
  "kernelspec": {
   "display_name": "Python 3",
   "language": "python",
   "name": "python3"
  },
  "language_info": {
   "codemirror_mode": {
    "name": "ipython",
    "version": 3
   },
   "file_extension": ".py",
   "mimetype": "text/x-python",
   "name": "python",
   "nbconvert_exporter": "python",
   "pygments_lexer": "ipython3",
   "version": "3.10.0"
  }
 },
 "nbformat": 4,
 "nbformat_minor": 5
}
