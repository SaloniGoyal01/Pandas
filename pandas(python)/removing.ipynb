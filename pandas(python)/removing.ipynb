{
 "cells": [
  {
   "cell_type": "code",
   "execution_count": 4,
   "id": "7adc3452",
   "metadata": {},
   "outputs": [
    {
     "name": "stdout",
     "output_type": "stream",
     "text": [
      "        Name  Age  Salary  Performance\n",
      "0        Ram   10   10000           85\n",
      "1      Shyam   20   20000           86\n",
      "2  Ghanshyam   30   30000           87\n",
      "3   Dhansyam   40   40000           88 \n",
      "\n",
      "\n",
      "         Name  Age  Salary\n",
      "0        Ram   10   10000\n",
      "1      Shyam   20   20000\n",
      "2  Ghanshyam   30   30000\n",
      "3   Dhansyam   40   40000\n"
     ]
    }
   ],
   "source": [
    "import pandas as pd\n",
    "\n",
    "data = {\n",
    "    \"Name\" : [\"Ram\", \"Shyam\", \"Ghanshyam\", \"Dhansyam\"],\n",
    "    \"Age\" : [10, 20, 30, 40],\n",
    "    \"Salary\" : [10000, 20000, 30000, 40000],\n",
    "    \"Performance\" : [85, 86, 87, 88]\n",
    "}\n",
    "\n",
    "df = pd.DataFrame(data)\n",
    "print(df, \"\\n\")   # Printing the original DataFrame\n",
    "\n",
    "# Dropping the 'Performance' column from the DataFrame\n",
    "# Syntax: df.drop(columns = [\"column_name\"], inplace = True)\n",
    "df.drop(columns = [\"Performance\"], inplace = True)\n",
    "print(\"\\n\",df)    # Printing the updated DataFrame after dropping the column"
   ]
  },
  {
   "cell_type": "code",
   "execution_count": 8,
   "id": "f44c5b1c",
   "metadata": {},
   "outputs": [
    {
     "name": "stdout",
     "output_type": "stream",
     "text": [
      "        Name  Age  Salary  Performance\n",
      "0        Ram   10   10000           85\n",
      "1      Shyam   20   20000           86\n",
      "2  Ghanshyam   30   30000           87\n",
      "3   Dhansyam   40   40000           88 \n",
      "\n",
      "\n",
      "         Name  Salary\n",
      "0        Ram   10000\n",
      "1      Shyam   20000\n",
      "2  Ghanshyam   30000\n",
      "3   Dhansyam   40000\n"
     ]
    }
   ],
   "source": [
    "data = {\n",
    "    \"Name\" : [\"Ram\", \"Shyam\", \"Ghanshyam\", \"Dhansyam\"],\n",
    "    \"Age\" : [10, 20, 30, 40],\n",
    "    \"Salary\" : [10000, 20000, 30000, 40000],\n",
    "    \"Performance\" : [85, 86, 87, 88]\n",
    "}\n",
    "\n",
    "df = pd.DataFrame(data)\n",
    "print(df, \"\\n\")  # Printing the original DataFrame\n",
    "\n",
    "# Dropping multiple columns: 'Performance' and 'Age'\n",
    "# Syntax: df.drop(columns = [\"column_name1\", \"column_name2\", ...], inplace = True)\n",
    "df.drop(columns = [\"Performance\", \"Age\"], inplace = True)\n",
    "\n",
    "# Printing the updated DataFrame after dropping the columns\n",
    "print(\"\\n\", df)\n"
   ]
  }
 ],
 "metadata": {
  "kernelspec": {
   "display_name": "Python 3",
   "language": "python",
   "name": "python3"
  },
  "language_info": {
   "codemirror_mode": {
    "name": "ipython",
    "version": 3
   },
   "file_extension": ".py",
   "mimetype": "text/x-python",
   "name": "python",
   "nbconvert_exporter": "python",
   "pygments_lexer": "ipython3",
   "version": "3.10.0"
  }
 },
 "nbformat": 4,
 "nbformat_minor": 5
}
